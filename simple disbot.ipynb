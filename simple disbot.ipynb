{
 "cells": [
  {
   "cell_type": "code",
   "execution_count": null,
   "id": "378fcffc",
   "metadata": {},
   "outputs": [],
   "source": [
    "pip install discord.py\n",
    "pip install apscheduler\n",
    "import discord\n",
    "from discord.ext import commands\n",
    "from apscheduler.schedulers.asyncio import AsyncIOScheduler\n",
    "from apscheduler.triggers.cron import CronTrigger\n",
    "import os\n",
    "\n",
    "# Discord bot token\n",
    "TOKEN = 'YOUR_DISCORD_BOT_TOKEN'\n",
    "CHANNEL_ID = 1161357738211819647  # 你自己的頻道ID\n",
    "\n",
    "# Create a bot instance\n",
    "bot = commands.Bot(command_prefix='!')\n",
    "\n",
    "# 傳送何種訊息\n",
    "async def send_daily_message():\n",
    "    channel = bot.get_channel(CHANNEL_ID)\n",
    "    if channel:\n",
    "        await channel.send(r\"\\sign\")\n",
    "\n",
    "# 設定\n",
    "scheduler = AsyncIOScheduler()\n",
    "\n",
    "# 什麼時間發(e.g., 12:00 PM)\n",
    "scheduler.add_job(send_daily_message, CronTrigger(hour=12, minute=0))\n",
    "\n",
    "@scheduler.scheduled_job('interval', minutes=1)\n",
    "async def test_job():\n",
    "    print(\"This job runs every 1 minute.\")\n",
    "\n",
    "@bot.event\n",
    "async def on_ready():\n",
    "    print(f'Logged in as {bot.user}')\n",
    "    scheduler.start()\n",
    "\n",
    "# Run the bot\n",
    "bot.run(TOKEN)\n",
    "python your_script_name.py"
   ]
  }
 ],
 "metadata": {
  "kernelspec": {
   "display_name": "Python 3 (ipykernel)",
   "language": "python",
   "name": "python3"
  },
  "language_info": {
   "codemirror_mode": {
    "name": "ipython",
    "version": 3
   },
   "file_extension": ".py",
   "mimetype": "text/x-python",
   "name": "python",
   "nbconvert_exporter": "python",
   "pygments_lexer": "ipython3",
   "version": "3.11.7"
  }
 },
 "nbformat": 4,
 "nbformat_minor": 5
}
